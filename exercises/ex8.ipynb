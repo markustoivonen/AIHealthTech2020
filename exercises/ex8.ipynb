{
  "nbformat": 4,
  "nbformat_minor": 0,
  "metadata": {
    "colab": {
      "name": "self_attention_notebook.ipynb",
      "provenance": [],
      "collapsed_sections": [],
      "include_colab_link": true
    },
    "kernelspec": {
      "name": "python3",
      "display_name": "Python 3"
    },
    "accelerator": "GPU"
  },
  "cells": [
    {
      "cell_type": "markdown",
      "metadata": {
        "id": "view-in-github",
        "colab_type": "text"
      },
      "source": [
        "<a href=\"https://colab.research.google.com/github/markustoivonen/AIHealthTech2020/blob/master/exercises/ex8.ipynb\" target=\"_parent\"><img src=\"https://colab.research.google.com/assets/colab-badge.svg\" alt=\"Open In Colab\"/></a>"
      ]
    },
    {
      "cell_type": "markdown",
      "metadata": {
        "id": "Zyqv7dOQQGeC"
      },
      "source": [
        "## 1.1\n",
        "\n",
        "Tokenization is breaking a text chunk in smaller parts. Whether it is breaking a paragraph in to sentences, sentence into words or word in characters. \\\\\n",
        "\n",
        "Subword tokenization means breaking words into a corpus and a subword. For example the word \"faster\" becomes \"fast\", \"er\". Thus we can learn the subwords as well.\n",
        "\n",
        "\n",
        "## 1.2\n",
        "\n",
        "One-hot encoding is inefficient. A one-hot encoded vector is sparse (meaning, most indices are zero). If we have a vocabulary of 10k words, and we one-hot encode each word, we would create a vector where 99.99\\% of the elements are zero. \\\\\n",
        "\n",
        "Embedding allows us to represent the words in a more dense way. The idea is that we project the words in our vocabulary into some space, and the mapping tries to put similar words close to each other in the space. Embedding is also something we can also improve by training. These 3 things (dense representation, relationships between words, trainability) make it much more better encoding mechanic than one-hot encoding.\n",
        "\n",
        "\n",
        "## 1.3\n",
        "\n",
        "The embeddings seem to make a little sense. For example close to one another are airport, runaway, petroleum, import and export. And in another corner there seems to be a lot of names bundles together. However, considering the first three axises only explain 8.5\\% of the variance, one should not draw too many conclusions from the relationships. "
      ]
    },
    {
      "cell_type": "markdown",
      "metadata": {
        "id": "HknH60A7tWN0"
      },
      "source": [
        "# Self Attention\n",
        "\n",
        "Self attention is a mechanism made popular by the paper \"Attention Is All You Need\" https://arxiv.org/abs/1706.03762. The mechanism requires three components: Queries $Q$, Keys $K$, and Values $V$. Queries and Keys are matrices with sequence_length $\\times$ element_dimension elements. An attention matrix is produced by computing $QK^T$ with dimensions sequence_length $\\times$ sequence_length. Conceptually this can be thought to measure the similarity of the vectors located at each sequence element in the queries and keys. A row-wise softmax is then taken and the matrix is multiplied with the values. This can be thought to first introduce weights which sum up to one (the softmaxed matrix) and then a weighted sum of the sequence elements is taken. Certain sequence elements can thus dominate the output and irrelevant parts are suppressed.\n",
        "\n",
        "The self attention is often made as follows:\n",
        "Let $x$ be a matrix with dimensions sequence_length $\\times$ input_dimension, where input_dimension is for example the output of a hidden layer and sequence length is the length of a time-series etc.\n",
        "\n",
        "\\begin{align}\n",
        "Q &= xw_Q\\\\\n",
        "K &= xw_K\\\\\n",
        "V &= xw_V\\\\\n",
        "SelfAttn(Q,K,V) &= Softmax_{r}(QK^T)V\n",
        "\\end{align}\n",
        "Here the $Softmax_{r}$ is the softmax taken row-wise (each element exponentiated and then normalized via the sum of the exponentiated elements).\n",
        "The weights $w_Q,w_K$ have dimensions input_dimension$\\times$element_dimension and the $w_V$ is either the same shape or the element_dimension can also be different. Often the $SelfAttn(\\cdot)$ also includes a normalizing constant inside the softmax to make the learning more stabile. For example in the paper \"Attention Is All You Need\" the self attention is given by:\n",
        "\n",
        "\\begin{equation}\n",
        "SelfAttn(Q,K,V) = Softmax_{r}(\\frac{QK^T}{\\sqrt{d_e}})V\n",
        "\\end{equation}\n",
        "Where $d_e$ is the element_dimension (their notation is slightly different).\n",
        "\n",
        "Usually the self attention is followed by fully connected layers which map the output to either classification probabilities or to the input of another attention layer.\n",
        "\n"
      ]
    },
    {
      "cell_type": "code",
      "metadata": {
        "id": "L_eUHB11tT1t"
      },
      "source": [
        "import tensorflow as tf\n",
        "import tensorflow.keras.layers as layers\n",
        "import tensorflow_datasets as tfds\n",
        "import numpy as np\n",
        "from tensorflow.data import Dataset\n",
        "import matplotlib.pyplot as plt"
      ],
      "execution_count": 29,
      "outputs": []
    },
    {
      "cell_type": "code",
      "metadata": {
        "id": "akDMiZ6NjwtA"
      },
      "source": [
        "data = tfds.load(name='tiny_shakespeare')\n",
        "train_examples, val_examples = tfds.as_numpy(data['train']), tfds.as_numpy(data['validation'])"
      ],
      "execution_count": 30,
      "outputs": []
    },
    {
      "cell_type": "code",
      "metadata": {
        "id": "TmW5zKm39KGY"
      },
      "source": [
        "def process_shakespeare_to_batches(ds_in,sequence_length=101):\n",
        "    # Extract the data from the dataset object:\n",
        "    ds = next(iter(ds_in))['text']\n",
        "    # Decode the bytes as utf-8 string:\n",
        "    ds = ds.decode('UTF-8')\n",
        "    # Remove linebreaks from the text unless speaker changes:\n",
        "    ds = ds.split('\\n\\n')\n",
        "    ds = [item.replace('\\n',' ') for item in ds]\n",
        "    ds = \" \\n \".join(ds)\n",
        "    # We are going to chunk the string into sequences of 500 characters:\n",
        "    ds_new = []\n",
        "    i = 0\n",
        "    while i<len(ds):\n",
        "        my_string = ds[i:i+sequence_length]\n",
        "        if len(my_string)<sequence_length:\n",
        "            break # A quick and dirty way to make it so that all elements are 500 long\n",
        "        ds_new.append(my_string)\n",
        "        i+=sequence_length\n",
        "    ds = ds_new\n",
        "    return ds\n"
      ],
      "execution_count": 31,
      "outputs": []
    },
    {
      "cell_type": "code",
      "metadata": {
        "id": "XROcO1ej9iol",
        "outputId": "6779db93-e352-425e-ac28-82e35ef3bc26",
        "colab": {
          "base_uri": "https://localhost:8080/"
        }
      },
      "source": [
        "# Chunk the play into suitable components:\n",
        "sequence_length = 101\n",
        "train_dataset = process_shakespeare_to_batches(train_examples,sequence_length=sequence_length)\n",
        "val_dataset = process_shakespeare_to_batches(val_examples,sequence_length=sequence_length)\n",
        "print(\"Number of training examples: %d, and number of validation examples: %d\"%(len(train_dataset),len(val_dataset)))"
      ],
      "execution_count": 32,
      "outputs": [
        {
          "output_type": "stream",
          "text": [
            "Number of training examples: 10001, and number of validation examples: 556\n"
          ],
          "name": "stdout"
        }
      ]
    },
    {
      "cell_type": "code",
      "metadata": {
        "id": "PyyQ4hOTrgBD",
        "outputId": "abff5ff2-049a-4c7f-96dc-9dfff24122b3",
        "colab": {
          "base_uri": "https://localhost:8080/"
        }
      },
      "source": [
        "# Now we have our datasets as lists of text.\n",
        "# Next we need to do 2 things, make them into tensorflow datasets and tokenize\n",
        "tokenizer = tf.keras.preprocessing.text.Tokenizer(filters='',char_level=True,split=None)\n",
        "tokenizer.fit_on_texts(train_dataset)\n",
        "vocab_size = len(list(eval(tokenizer.get_config()['index_word']).keys()))+1 # One for unknown\n",
        "print(\"Vocab size: %d\"%vocab_size)\n",
        "train_seqs = tokenizer.texts_to_sequences(train_dataset)\n",
        "val_seqs = tokenizer.texts_to_sequences(val_dataset)"
      ],
      "execution_count": 33,
      "outputs": [
        {
          "output_type": "stream",
          "text": [
            "Vocab size: 40\n"
          ],
          "name": "stdout"
        }
      ]
    },
    {
      "cell_type": "code",
      "metadata": {
        "id": "c9vEuKc_y1i4"
      },
      "source": [
        "# Since the keras tokenizer will concat always with space, we need to do our own backward tokenizer:\n",
        "def sequences_to_text(dataset,tokenizer):\n",
        "    index_word = eval(tokenizer.get_config()['index_word']) # I have absolutely no idea why the keras devs think its good idea to store this dict as a string as there is no other way to access this.\n",
        "    dataset_text = []\n",
        "    for batch in dataset:\n",
        "        my_sequence = []\n",
        "        for character_token in batch:\n",
        "            my_sequence.append(index_word[str(character_token)])\n",
        "        dataset_text.append(\"\".join(my_sequence))\n",
        "    return dataset_text"
      ],
      "execution_count": 34,
      "outputs": []
    },
    {
      "cell_type": "code",
      "metadata": {
        "id": "nTWPRQi7zTZQ",
        "outputId": "7d51547d-1f2e-4b6e-d035-d79d5378b290",
        "colab": {
          "base_uri": "https://localhost:8080/"
        }
      },
      "source": [
        "# Test if we can map the words back:\n",
        "print(\"Original sequence:\")\n",
        "print(train_dataset[0])\n",
        "print('\\n')\n",
        "tr_seq_2_text = sequences_to_text(train_seqs,tokenizer)\n",
        "print(\"Tokenized and back mapped sequence:\")\n",
        "print(tr_seq_2_text[0])"
      ],
      "execution_count": 35,
      "outputs": [
        {
          "output_type": "stream",
          "text": [
            "Original sequence:\n",
            "First Citizen: Before we proceed any further, hear me speak. \n",
            " All: Speak, speak. \n",
            " First Citizen: Yo\n",
            "\n",
            "\n",
            "Tokenized and back mapped sequence:\n",
            "first citizen: before we proceed any further, hear me speak. \n",
            " all: speak, speak. \n",
            " first citizen: yo\n"
          ],
          "name": "stdout"
        }
      ]
    },
    {
      "cell_type": "code",
      "metadata": {
        "id": "oWR70ie-1McB"
      },
      "source": [
        "# Almost done! Now we just need to form the datasets.\n",
        "# Let's make it so that we always want to predict one token ahead.\n",
        "# Thus input is all but last token in original positions, but target is all but first token in left shifted positions\n",
        "train_inputs = [item[0:-1] for item in train_seqs]\n",
        "train_targets = [item[1:] for item in train_seqs]\n",
        "\n",
        "val_inputs = [item[0:-1] for item in val_seqs]\n",
        "val_targets = [item[1:] for item in val_seqs]\n",
        "\n",
        "batch_size = 32\n",
        "train_dataset = Dataset.from_tensor_slices((train_inputs, train_targets)).shuffle(9999).batch(batch_size)\n",
        "validation_dataset = Dataset.from_tensor_slices((val_inputs, val_targets)).batch(batch_size)"
      ],
      "execution_count": 36,
      "outputs": []
    },
    {
      "cell_type": "markdown",
      "metadata": {
        "id": "aGKj2MQ7_gLx"
      },
      "source": [
        "# Task 1.\n",
        "\n",
        "In this code we are going to train a simple model utilizing the self-attention blocks. The model is based on the Transformer model, but is slightly more simple.\n",
        "\n",
        "Finish the code for the self attention block \"SelfAttentionLayer\" in the following cell.\n",
        "\n",
        "You can call \"tf.matmul\" to perform matrix multiplication on batches of matrices to compute the $QK^\\top$ and the final output.\n",
        "\n",
        "Notice that we **need** to use masking as we are predicting the next token, otherwise this information will be leaked. Call the causal_softmax function inplace of the softmax used in the normal equations."
      ]
    },
    {
      "cell_type": "code",
      "metadata": {
        "id": "oiEoZr3d_agJ"
      },
      "source": [
        "@tf.function\n",
        "def causal_softmax(x,eps=1e-6):\n",
        "    # Assume x is of shape batch_size,sequence_length,sequence_length\n",
        "    # Generate a lower diagonal matrix of ones. First row has ones only at first element, second at first and second, and so on.\n",
        "    mask = tf.linalg.band_part(tf.ones((x.shape[1], x.shape[1])), -1, 0)\n",
        "    # In essence this could be just computed as exp(x)*mask/(sum(exp(x)*mask))\n",
        "    # However, here we utilize the numerically stabile version where we take the max out of the exponentiated matrix, which requries two maskings\n",
        "    # exp(x_j)/sum_i(exp(x_i)) = (exp(-x_max)*exp(x_j))/(exp(-x_max)*sum_i(exp(x_i))) = exp(x_j-x_max)/sum_i(x_i-x_max)\n",
        "    x = x*mask\n",
        "    maxx = tf.math.reduce_max(x,axis=2,keepdims=True)\n",
        "    x = x-maxx\n",
        "    x = tf.math.exp(x)*mask # We need to mask outside exp, since exp(0) = 1\n",
        "    x = x/(tf.math.reduce_sum(x,axis=2,keepdims=True)+eps)\n",
        "    return x\n",
        "\n",
        "\n",
        "\"\"\"\n",
        "TASK IS TO COMPLETE THE NEXT:\n",
        "\"\"\"\n",
        "class SelfAttentionLayer(tf.keras.layers.Layer):\n",
        "    def __init__(self, embedding_dimension):\n",
        "        super(SelfAttentionLayer, self).__init__()\n",
        "        self.QMapping = layers.Dense(embedding_dimension)\n",
        "        self.KMapping = layers.Dense(embedding_dimension)\n",
        "        self.VMapping = layers.Dense(embedding_dimension)\n",
        "    \n",
        "    def call(self, input):\n",
        "        # Complete this call using the equations given.\n",
        "        # tf.matmul computes the matrix multiplication in batch mode if there is 3 dimensions so it is suitable.\n",
        "        # Also let's say we want to compute M1 * M2^T (M1 times M2 transposed)\n",
        "        # We can compute it using tf.matmul(M1,M2,transpose_b=True)\n",
        "        Q = self.QMapping(input)\n",
        "        K = self.KMapping(input)\n",
        "        V = self.VMapping(input)\n",
        "        # d_e is scaling as is shown above and in the paper.\n",
        "        d_e = tf.cast(tf.shape(K)[-1], tf.float32)\n",
        "        QK_t = tf.matmul(Q, K, transpose_b=True)\n",
        "        attention_weights = causal_softmax(QK_t)\n",
        "        output = tf.matmul(attention_weights, V)\n",
        "        return output\n",
        "\"\"\"\n",
        "END\n",
        "\"\"\"\n",
        "\n",
        "class TransformerBlock(tf.keras.layers.Layer):\n",
        "    def __init__(self, embedding_dim, dropout_rate=0.1):\n",
        "        super(TransformerBlock, self).__init__()\n",
        "        self.attention = SelfAttentionLayer(embedding_dim)\n",
        "        self.fc1 = layers.Dense(embedding_dim, activation='relu')\n",
        "        self.fc2 = layers.Dense(embedding_dim, activation='relu')\n",
        "        self.layernorm1 = layers.LayerNormalization(epsilon=1e-6)\n",
        "        self.layernorm2 = layers.LayerNormalization(epsilon=1e-6)\n",
        "        self.dropout1 = layers.Dropout(dropout_rate)\n",
        "        self.dropout2 = layers.Dropout(dropout_rate)\n",
        "    def call(self, x, training):\n",
        "        attended = self.attention(x)\n",
        "        attended = self.dropout1(attended,training=training)\n",
        "        attended_normed = self.layernorm1(x+attended)\n",
        "        feed_forwarded = self.fc2(self.fc1(attended_normed))\n",
        "        feed_forwarded = self.dropout2(feed_forwarded,training=training)\n",
        "        output = self.layernorm2(feed_forwarded + attended_normed)\n",
        "        return output\n",
        "\n",
        "class MiniTransformer(tf.keras.Model):\n",
        "    def __init__(self,number_of_tokens,embedding_dim=256):\n",
        "        super(MiniTransformer, self).__init__()\n",
        "        # Embed the inputs to embedding_dim trainable vectors:\n",
        "        self.embedding = layers.Embedding(number_of_tokens, embedding_dim)\n",
        "        self.tblock1 = TransformerBlock(embedding_dim)\n",
        "        self.tblock2 = TransformerBlock(embedding_dim)\n",
        "        self.tblock3 = TransformerBlock(embedding_dim)\n",
        "        self.tblock4 = TransformerBlock(embedding_dim)\n",
        "        self.tblock5 = TransformerBlock(embedding_dim)\n",
        "        # Now map probabilities for each token\n",
        "        self.classifier = layers.Dense(number_of_tokens)\n",
        "    def call(self, x, training, as_logits = True):\n",
        "        x = self.embedding(x,training=training)\n",
        "        x = self.tblock1(x,training=training)\n",
        "        x = self.tblock2(x,training=training)\n",
        "        x = self.tblock3(x,training=training)\n",
        "        x = self.tblock4(x,training=training)\n",
        "        x = self.tblock5(x,training=training)\n",
        "        if as_logits:\n",
        "            return self.classifier(x)\n",
        "        else:\n",
        "            return tf.keras.activations.softmax(self.classifier(x), axis=-1)"
      ],
      "execution_count": 45,
      "outputs": []
    },
    {
      "cell_type": "code",
      "metadata": {
        "id": "zUfgjI276RkO"
      },
      "source": [
        "# make the model:\n",
        "mini_transformer = MiniTransformer(vocab_size,embedding_dim=512)"
      ],
      "execution_count": 46,
      "outputs": []
    },
    {
      "cell_type": "code",
      "metadata": {
        "id": "LKl5t3Mh9OF6"
      },
      "source": [
        "learning_rate = 0.0003\n",
        "mini_transformer.compile(optimizer=tf.keras.optimizers.Adam(lr=learning_rate),\n",
        "                         loss=tf.keras.losses.SparseCategoricalCrossentropy(from_logits=True),\n",
        "                         metrics=['accuracy'])"
      ],
      "execution_count": 47,
      "outputs": []
    },
    {
      "cell_type": "code",
      "metadata": {
        "id": "VFCH9nFj9uNg",
        "outputId": "dfde98b6-e02f-441e-b2ac-b4754484f0c6",
        "colab": {
          "base_uri": "https://localhost:8080/"
        }
      },
      "source": [
        "# Train and use the early stopping hook:\n",
        "epochs = 50\n",
        "history = mini_transformer.fit(train_dataset,\n",
        "                               epochs=epochs,\n",
        "                               validation_data=validation_dataset,\n",
        "                               callbacks=tf.keras.callbacks.EarlyStopping(monitor='val_loss', \n",
        "                                                                          min_delta=0,\n",
        "                                                                          patience=10, \n",
        "                                                                          restore_best_weights=True))"
      ],
      "execution_count": 60,
      "outputs": [
        {
          "output_type": "stream",
          "text": [
            "Epoch 1/50\n",
            "313/313 [==============================] - 47s 150ms/step - loss: 2.3003 - accuracy: 0.3065 - val_loss: 2.3118 - val_accuracy: 0.3019\n",
            "Epoch 2/50\n",
            "313/313 [==============================] - 47s 150ms/step - loss: 2.2904 - accuracy: 0.3091 - val_loss: 2.3090 - val_accuracy: 0.3038\n",
            "Epoch 3/50\n",
            "313/313 [==============================] - 47s 149ms/step - loss: 2.2941 - accuracy: 0.3077 - val_loss: 2.3133 - val_accuracy: 0.3020\n",
            "Epoch 4/50\n",
            "313/313 [==============================] - 46s 148ms/step - loss: 2.2935 - accuracy: 0.3077 - val_loss: 2.3238 - val_accuracy: 0.2987\n",
            "Epoch 5/50\n",
            "313/313 [==============================] - 47s 149ms/step - loss: 2.2904 - accuracy: 0.3088 - val_loss: 2.3108 - val_accuracy: 0.3047\n",
            "Epoch 6/50\n",
            "313/313 [==============================] - 47s 149ms/step - loss: 2.2818 - accuracy: 0.3114 - val_loss: 2.3098 - val_accuracy: 0.3019\n",
            "Epoch 7/50\n",
            "313/313 [==============================] - 47s 149ms/step - loss: 2.2791 - accuracy: 0.3116 - val_loss: 2.2990 - val_accuracy: 0.3066\n",
            "Epoch 8/50\n",
            "313/313 [==============================] - 47s 149ms/step - loss: 2.2704 - accuracy: 0.3144 - val_loss: 2.2965 - val_accuracy: 0.3076\n",
            "Epoch 9/50\n",
            "313/313 [==============================] - 47s 149ms/step - loss: 2.3063 - accuracy: 0.3051 - val_loss: 2.3642 - val_accuracy: 0.2896\n",
            "Epoch 10/50\n",
            "313/313 [==============================] - 47s 149ms/step - loss: 2.3233 - accuracy: 0.2991 - val_loss: 2.3198 - val_accuracy: 0.2992\n",
            "Epoch 11/50\n",
            "313/313 [==============================] - 47s 149ms/step - loss: 2.2907 - accuracy: 0.3082 - val_loss: 2.2963 - val_accuracy: 0.3072\n",
            "Epoch 12/50\n",
            "313/313 [==============================] - 47s 149ms/step - loss: 2.2779 - accuracy: 0.3115 - val_loss: 2.2846 - val_accuracy: 0.3096\n",
            "Epoch 13/50\n",
            "313/313 [==============================] - 47s 149ms/step - loss: 2.2945 - accuracy: 0.3078 - val_loss: 2.3170 - val_accuracy: 0.3012\n",
            "Epoch 14/50\n",
            "313/313 [==============================] - 47s 149ms/step - loss: 2.2906 - accuracy: 0.3082 - val_loss: 2.2940 - val_accuracy: 0.3059\n",
            "Epoch 15/50\n",
            "313/313 [==============================] - 47s 149ms/step - loss: 2.2707 - accuracy: 0.3140 - val_loss: 2.2935 - val_accuracy: 0.3077\n",
            "Epoch 16/50\n",
            "313/313 [==============================] - 46s 148ms/step - loss: 2.2556 - accuracy: 0.3189 - val_loss: 2.2866 - val_accuracy: 0.3110\n",
            "Epoch 17/50\n",
            "313/313 [==============================] - 46s 148ms/step - loss: 2.2530 - accuracy: 0.3196 - val_loss: 2.2751 - val_accuracy: 0.3124\n",
            "Epoch 18/50\n",
            "313/313 [==============================] - 47s 149ms/step - loss: 2.2603 - accuracy: 0.3176 - val_loss: 2.2808 - val_accuracy: 0.3115\n",
            "Epoch 19/50\n",
            "313/313 [==============================] - 47s 149ms/step - loss: 2.2523 - accuracy: 0.3200 - val_loss: 2.2782 - val_accuracy: 0.3135\n",
            "Epoch 20/50\n",
            "313/313 [==============================] - 46s 149ms/step - loss: 2.2404 - accuracy: 0.3236 - val_loss: 2.2697 - val_accuracy: 0.3169\n",
            "Epoch 21/50\n",
            "313/313 [==============================] - 47s 149ms/step - loss: 2.2450 - accuracy: 0.3226 - val_loss: 2.2882 - val_accuracy: 0.3093\n",
            "Epoch 22/50\n",
            "313/313 [==============================] - 46s 149ms/step - loss: 2.2436 - accuracy: 0.3227 - val_loss: 2.2676 - val_accuracy: 0.3178\n",
            "Epoch 23/50\n",
            "313/313 [==============================] - 46s 148ms/step - loss: 2.2254 - accuracy: 0.3286 - val_loss: 2.2655 - val_accuracy: 0.3200\n",
            "Epoch 24/50\n",
            "313/313 [==============================] - 46s 148ms/step - loss: 2.2460 - accuracy: 0.3228 - val_loss: 2.2579 - val_accuracy: 0.3200\n",
            "Epoch 25/50\n",
            "313/313 [==============================] - 47s 149ms/step - loss: 2.2162 - accuracy: 0.3314 - val_loss: 2.2522 - val_accuracy: 0.3245\n",
            "Epoch 26/50\n",
            "313/313 [==============================] - 47s 149ms/step - loss: 2.2560 - accuracy: 0.3201 - val_loss: 2.2582 - val_accuracy: 0.3230\n",
            "Epoch 27/50\n",
            "313/313 [==============================] - 47s 149ms/step - loss: 2.2317 - accuracy: 0.3276 - val_loss: 2.2940 - val_accuracy: 0.3066\n",
            "Epoch 28/50\n",
            "313/313 [==============================] - 47s 149ms/step - loss: 2.2376 - accuracy: 0.3253 - val_loss: 2.2472 - val_accuracy: 0.3253\n",
            "Epoch 29/50\n",
            "313/313 [==============================] - 46s 148ms/step - loss: 2.2147 - accuracy: 0.3317 - val_loss: 2.2404 - val_accuracy: 0.3283\n",
            "Epoch 30/50\n",
            "313/313 [==============================] - 47s 149ms/step - loss: 2.2053 - accuracy: 0.3347 - val_loss: 2.2330 - val_accuracy: 0.3286\n",
            "Epoch 31/50\n",
            "313/313 [==============================] - 47s 149ms/step - loss: 2.1932 - accuracy: 0.3387 - val_loss: 2.2274 - val_accuracy: 0.3313\n",
            "Epoch 32/50\n",
            "313/313 [==============================] - 47s 149ms/step - loss: 2.2163 - accuracy: 0.3318 - val_loss: 2.3093 - val_accuracy: 0.3067\n",
            "Epoch 33/50\n",
            "313/313 [==============================] - 47s 149ms/step - loss: 2.2446 - accuracy: 0.3236 - val_loss: 2.2504 - val_accuracy: 0.3244\n",
            "Epoch 34/50\n",
            "313/313 [==============================] - 47s 149ms/step - loss: 2.2120 - accuracy: 0.3327 - val_loss: 2.2510 - val_accuracy: 0.3225\n",
            "Epoch 35/50\n",
            "313/313 [==============================] - 46s 148ms/step - loss: 2.2013 - accuracy: 0.3367 - val_loss: 2.2309 - val_accuracy: 0.3322\n",
            "Epoch 36/50\n",
            "313/313 [==============================] - 47s 149ms/step - loss: 2.1909 - accuracy: 0.3388 - val_loss: 2.2311 - val_accuracy: 0.3323\n",
            "Epoch 37/50\n",
            "313/313 [==============================] - 47s 149ms/step - loss: 2.1885 - accuracy: 0.3400 - val_loss: 2.2325 - val_accuracy: 0.3298\n",
            "Epoch 38/50\n",
            "313/313 [==============================] - 47s 150ms/step - loss: 2.1893 - accuracy: 0.3393 - val_loss: 2.2359 - val_accuracy: 0.3287\n",
            "Epoch 39/50\n",
            "313/313 [==============================] - 47s 149ms/step - loss: 2.1820 - accuracy: 0.3413 - val_loss: 2.2166 - val_accuracy: 0.3331\n",
            "Epoch 40/50\n",
            "313/313 [==============================] - 47s 149ms/step - loss: 2.1660 - accuracy: 0.3465 - val_loss: 2.1995 - val_accuracy: 0.3413\n",
            "Epoch 41/50\n",
            "313/313 [==============================] - 46s 148ms/step - loss: 2.1718 - accuracy: 0.3453 - val_loss: 2.2192 - val_accuracy: 0.3341\n",
            "Epoch 42/50\n",
            "313/313 [==============================] - 46s 149ms/step - loss: 2.2090 - accuracy: 0.3347 - val_loss: 2.2359 - val_accuracy: 0.3285\n",
            "Epoch 43/50\n",
            "313/313 [==============================] - 47s 149ms/step - loss: 2.1758 - accuracy: 0.3440 - val_loss: 2.2144 - val_accuracy: 0.3331\n",
            "Epoch 44/50\n",
            "313/313 [==============================] - 47s 149ms/step - loss: 2.1617 - accuracy: 0.3478 - val_loss: 2.2038 - val_accuracy: 0.3385\n",
            "Epoch 45/50\n",
            "313/313 [==============================] - 47s 149ms/step - loss: 2.1604 - accuracy: 0.3486 - val_loss: 2.2124 - val_accuracy: 0.3357\n",
            "Epoch 46/50\n",
            "313/313 [==============================] - 47s 149ms/step - loss: 2.1614 - accuracy: 0.3481 - val_loss: 2.2021 - val_accuracy: 0.3362\n",
            "Epoch 47/50\n",
            "313/313 [==============================] - 46s 148ms/step - loss: 2.1582 - accuracy: 0.3489 - val_loss: 2.1956 - val_accuracy: 0.3393\n",
            "Epoch 48/50\n",
            "313/313 [==============================] - 46s 148ms/step - loss: 2.1606 - accuracy: 0.3485 - val_loss: 2.2060 - val_accuracy: 0.3385\n",
            "Epoch 49/50\n",
            "313/313 [==============================] - 47s 149ms/step - loss: 2.3956 - accuracy: 0.2937 - val_loss: 2.7596 - val_accuracy: 0.2183\n",
            "Epoch 50/50\n",
            "313/313 [==============================] - 47s 149ms/step - loss: 2.6894 - accuracy: 0.2323 - val_loss: 2.6737 - val_accuracy: 0.2289\n"
          ],
          "name": "stdout"
        }
      ]
    },
    {
      "cell_type": "code",
      "metadata": {
        "id": "Z_WbVyBG9v60",
        "outputId": "a073fb40-3617-4d0d-ecba-816c7d0f139b",
        "colab": {
          "base_uri": "https://localhost:8080/",
          "height": 280
        }
      },
      "source": [
        "acc = history.history['accuracy']\n",
        "val_acc = history.history['val_accuracy']\n",
        "\n",
        "loss = history.history['loss']\n",
        "val_loss = history.history['val_loss']\n",
        "\n",
        "plt.figure(figsize=(8, 8))\n",
        "plt.subplot(2, 1, 1)\n",
        "plt.plot(acc, label='Training Accuracy')\n",
        "plt.plot(val_acc, label='Validation Accuracy')\n",
        "plt.legend(loc='lower right')\n",
        "plt.ylabel('Accuracy')\n",
        "plt.ylim([min(plt.ylim()),1])\n",
        "plt.title('Training and Validation Accuracy')"
      ],
      "execution_count": 49,
      "outputs": [
        {
          "output_type": "execute_result",
          "data": {
            "text/plain": [
              "Text(0.5, 1.0, 'Training and Validation Accuracy')"
            ]
          },
          "metadata": {
            "tags": []
          },
          "execution_count": 49
        },
        {
          "output_type": "display_data",
          "data": {
            "image/png": "[encoded data removed]",
            "text/plain": [
              "<Figure size 576x576 with 1 Axes>"
            ]
          },
          "metadata": {
            "tags": [],
            "needs_background": "light"
          }
        }
      ]
    },
    {
      "cell_type": "code",
      "metadata": {
        "id": "Be23_Ujt91SE"
      },
      "source": [
        "# Generate text using the model. Here are some utility functions which you can use.\n",
        "def complete_string(model,init_string,sequence_length,tokenizer=tokenizer):\n",
        "    prediction_index = len(init_string)-1\n",
        "    data = [init_string]\n",
        "    sequence = tokenizer.texts_to_sequences(data)\n",
        "    # We want to generate the string by predicting one step ahead, and then\n",
        "    # appending the t+1 predicted token into the sequence:\n",
        "    while prediction_index < sequence_length:\n",
        "        probabilities = model(tf.convert_to_tensor(sequence, dtype=tf.float32),training=False,as_logits=False)\n",
        "        # probabilities is 1 x sequence_length x number_of_tokens.\n",
        "        # Get the predictions on the next token by:\n",
        "        p_next = probabilities[0,prediction_index,:].numpy()\n",
        "\n",
        "        # There might be some floating point errors, which numpy does not like.\n",
        "        # Thus do this:\n",
        "        p_next = p_next.astype('float64')\n",
        "        p_next = p_next/np.sum(p_next)\n",
        "\n",
        "        # Often it is better to sample the next token rather than to use the one with maximum probability:\n",
        "        pred_next = np.argmax(np.random.multinomial(1,p_next))\n",
        "        sequence[0].append(pred_next)\n",
        "        prediction_index = len(sequence[0])-1\n",
        "    \n",
        "    return sequences_to_text(sequence,tokenizer)[0]"
      ],
      "execution_count": 50,
      "outputs": []
    },
    {
      "cell_type": "markdown",
      "metadata": {
        "id": "sUA6IV78He6T"
      },
      "source": [
        "# Task 2\n",
        "Generate different strings using the model by changing the \"string_to_complete\" to something else.\n",
        "What can you say about the quality of the generated strings? What happens if you feed some \"out-of-distribution\" initial string? For example there is probably nothing about AI in Shakespeare..."
      ]
    },
    {
      "cell_type": "code",
      "metadata": {
        "id": "YcRwDfBtGLKv",
        "outputId": "ae05bb8c-3cd5-427c-d808-3e5e57b3e311",
        "colab": {
          "base_uri": "https://localhost:8080/"
        }
      },
      "source": [
        "# Modify this string and run this cell to make the model generate ending to the initial string.\n",
        "string_to_complete = \"Artificial Intelligence is \"\n",
        "completed_string = complete_string(mini_transformer,init_string=string_to_complete,sequence_length=50)\n",
        "print(completed_string)"
      ],
      "execution_count": 54,
      "outputs": [
        {
          "output_type": "stream",
          "text": [
            "artificial intelligence is maso: wa merelyansouimel\n"
          ],
          "name": "stdout"
        }
      ]
    },
    {
      "cell_type": "code",
      "metadata": {
        "id": "GZh9aeERbyFQ",
        "outputId": "c43fd467-7ba8-475f-e3d9-65e6deb38beb",
        "colab": {
          "base_uri": "https://localhost:8080/"
        }
      },
      "source": [
        "string_to_complete = \"The meaning of life is to \"\n",
        "completed_string = complete_string(mini_transformer,init_string=string_to_complete,sequence_length=50)\n",
        "print(completed_string)"
      ],
      "execution_count": 55,
      "outputs": [
        {
          "output_type": "stream",
          "text": [
            "the meaning of life is to gro wilothe o bere fe yor\n"
          ],
          "name": "stdout"
        }
      ]
    },
    {
      "cell_type": "code",
      "metadata": {
        "id": "MFxj7QA6cS4m",
        "outputId": "3bd8ce19-8923-49a3-ce71-c9625296c489",
        "colab": {
          "base_uri": "https://localhost:8080/"
        }
      },
      "source": [
        "string_to_complete = \"The next president of the United States is \"\n",
        "completed_string = complete_string(mini_transformer,init_string=string_to_complete,sequence_length=55)\n",
        "print(completed_string)"
      ],
      "execution_count": 58,
      "outputs": [
        {
          "output_type": "stream",
          "text": [
            "the next president of the united states is wi ac s to ie\n"
          ],
          "name": "stdout"
        }
      ]
    },
    {
      "cell_type": "code",
      "metadata": {
        "id": "3h2Bbfyqca8F"
      },
      "source": [
        ""
      ],
      "execution_count": null,
      "outputs": []
    }
  ]
}