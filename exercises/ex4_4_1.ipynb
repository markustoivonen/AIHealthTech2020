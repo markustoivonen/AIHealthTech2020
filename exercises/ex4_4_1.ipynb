{
  "nbformat": 4,
  "nbformat_minor": 0,
  "metadata": {
    "colab": {
      "name": "ex4_4_1.ipynb",
      "provenance": [],
      "authorship_tag": "ABX9TyPK/bDGtTs6LkkySKzeTapL",
      "include_colab_link": true
    },
    "kernelspec": {
      "name": "python3",
      "display_name": "Python 3"
    }
  },
  "cells": [
    {
      "cell_type": "markdown",
      "metadata": {
        "id": "view-in-github",
        "colab_type": "text"
      },
      "source": [
        "<a href=\"https://colab.research.google.com/github/markustoivonen/AIHealthTech2020/blob/master/exercises/ex4_4_1.ipynb\" target=\"_parent\"><img src=\"https://colab.research.google.com/assets/colab-badge.svg\" alt=\"Open In Colab\"/></a>"
      ]
    },
    {
      "cell_type": "code",
      "metadata": {
        "id": "Km4o9LPr4Vdi"
      },
      "source": [
        "import tensorflow as tf\n",
        "\n",
        "from tensorflow.keras.layers import Dense, Flatten, Conv2D\n",
        "from tensorflow.keras import Model\n",
        "import matplotlib.pyplot as plt\n",
        "from tensorflow.math import confusion_matrix\n"
      ],
      "execution_count": 62,
      "outputs": []
    },
    {
      "cell_type": "code",
      "metadata": {
        "id": "kQumB4hv4bUN"
      },
      "source": [
        "fashion_mnist = tf.keras.datasets.fashion_mnist\n",
        "\n",
        "(x_train, y_train), (x_test, y_test) = fashion_mnist.load_data()\n",
        "x_train, x_test = x_train / 255.0, x_test / 255.0\n"
      ],
      "execution_count": 63,
      "outputs": []
    },
    {
      "cell_type": "code",
      "metadata": {
        "id": "zg_uKS6x-KQf",
        "outputId": "ee515696-6302-4c33-fb35-c440b7a48097",
        "colab": {
          "base_uri": "https://localhost:8080/",
          "height": 251
        }
      },
      "source": [
        "class_names = ['T-shirt/top', 'Trouser', 'Pullover', 'Dress', 'Coat','Sandal', 'Shirt', 'Sneaker', 'Bag', 'Ankle boot']\n",
        "plt.figure(figsize=(10,10))\n",
        "for i in range(10):\n",
        "    plt.subplot(5,5,i+1)\n",
        "    plt.xticks([])\n",
        "    plt.yticks([])\n",
        "    plt.grid(False)\n",
        "    plt.imshow(x_train[i], cmap=plt.cm.binary)\n",
        "    plt.xlabel(class_names[y_train[i]])\n",
        "plt.show()"
      ],
      "execution_count": 64,
      "outputs": [
        {
          "output_type": "display_data",
          "data": {
            "image/png": "[encoded data removed]",
            "text/plain": [
              "<Figure size 720x720 with 10 Axes>"
            ]
          },
          "metadata": {
            "tags": []
          }
        }
      ]
    },
    {
      "cell_type": "code",
      "metadata": {
        "id": "8Xn8_dXyAv6b"
      },
      "source": [
        "\n",
        "# Add a channels dimension\n",
        "x_train = x_train[..., tf.newaxis].astype(\"float32\")\n",
        "x_test = x_test[..., tf.newaxis].astype(\"float32\")\n"
      ],
      "execution_count": 65,
      "outputs": []
    },
    {
      "cell_type": "code",
      "metadata": {
        "id": "V1zly7Ba5Huj"
      },
      "source": [
        "train_ds = tf.data.Dataset.from_tensor_slices(\n",
        "    (x_train, y_train)).shuffle(10000).batch(32)\n",
        "\n",
        "test_ds = tf.data.Dataset.from_tensor_slices((x_test, y_test)).batch(32)"
      ],
      "execution_count": 66,
      "outputs": []
    },
    {
      "cell_type": "code",
      "metadata": {
        "id": "ZAaQ_6z85Tjo"
      },
      "source": [
        "class MyModel(Model):\n",
        "  def __init__(self):\n",
        "    super(MyModel, self).__init__()\n",
        "    self.conv1 = Conv2D(32, 3, activation='relu')\n",
        "    self.flatten = Flatten()\n",
        "    self.d1 = Dense(128, activation='relu')\n",
        "    self.d2 = Dense(10)\n",
        "\n",
        "  def call(self, x):\n",
        "    x = self.conv1(x)\n",
        "    x = self.flatten(x)\n",
        "    x = self.d1(x)\n",
        "    return self.d2(x)\n",
        "\n",
        "# Create an instance of the model\n",
        "model = MyModel()\n"
      ],
      "execution_count": 67,
      "outputs": []
    },
    {
      "cell_type": "code",
      "metadata": {
        "id": "Ya0UuLxf5VA_"
      },
      "source": [
        "loss_object = tf.keras.losses.SparseCategoricalCrossentropy(from_logits=True)\n",
        "\n",
        "optimizer = tf.keras.optimizers.Adam()\n"
      ],
      "execution_count": 68,
      "outputs": []
    },
    {
      "cell_type": "code",
      "metadata": {
        "id": "u_dDgg785ylc"
      },
      "source": [
        "train_loss = tf.keras.metrics.Mean(name='train_loss')\n",
        "train_accuracy = tf.keras.metrics.SparseCategoricalAccuracy(name='train_accuracy')\n",
        "\n",
        "test_loss = tf.keras.metrics.Mean(name='test_loss')\n",
        "test_accuracy = tf.keras.metrics.SparseCategoricalAccuracy(name='test_accuracy')\n"
      ],
      "execution_count": 69,
      "outputs": []
    },
    {
      "cell_type": "code",
      "metadata": {
        "id": "NUvABMXo55W4"
      },
      "source": [
        "@tf.function\n",
        "def train_step(images, labels):\n",
        "  with tf.GradientTape() as tape:\n",
        "    # training=True is only needed if there are layers with different\n",
        "    # behavior during training versus inference (e.g. Dropout).\n",
        "    predictions = model(images, training=True)\n",
        "    loss = loss_object(labels, predictions)\n",
        "  gradients = tape.gradient(loss, model.trainable_variables)\n",
        "  optimizer.apply_gradients(zip(gradients, model.trainable_variables))\n",
        "\n",
        "  train_loss(loss)\n",
        "  train_accuracy(labels, predictions)\n"
      ],
      "execution_count": 70,
      "outputs": []
    },
    {
      "cell_type": "code",
      "metadata": {
        "id": "eVeI9z32599A"
      },
      "source": [
        "@tf.function\n",
        "def test_step(images, labels):\n",
        "  # training=False is only needed if there are layers with different\n",
        "  # behavior during training versus inference (e.g. Dropout).\n",
        "  predictions = model(images, training=False)\n",
        "  t_loss = loss_object(labels, predictions)\n",
        "\n",
        "  test_loss(t_loss)\n",
        "  test_accuracy(labels, predictions)"
      ],
      "execution_count": 71,
      "outputs": []
    },
    {
      "cell_type": "code",
      "metadata": {
        "id": "JEiZgrfCGFAt",
        "outputId": "8710ab11-b137-4c29-aed6-36d3dacadb53",
        "colab": {
          "base_uri": "https://localhost:8080/",
          "height": 221
        }
      },
      "source": [
        "predictions = tf.argmax(model(x_test),1)\n",
        "labels = y_test\n",
        "confusion_matrix(labels, predictions)"
      ],
      "execution_count": 72,
      "outputs": [
        {
          "output_type": "execute_result",
          "data": {
            "text/plain": [
              "<tf.Tensor: shape=(10, 10), dtype=int32, numpy=\n",
              "array([[  0,   0,   1,  35, 694, 188,  40,  36,   6,   0],\n",
              "       [ 23,   5,   0, 622, 219,   5, 108,  18,   0,   0],\n",
              "       [  0,   0,   0,  14, 432,  13, 346, 195,   0,   0],\n",
              "       [  0,   0,   5, 110, 763,  59,  39,  22,   1,   1],\n",
              "       [  0,   0,   0,  48, 445,  12, 415,  80,   0,   0],\n",
              "       [  0,   0,   4,  87, 546,  10, 284,  19,   7,  43],\n",
              "       [  0,   0,   1,  38, 568,  38, 294,  58,   3,   0],\n",
              "       [  0,   0,   0, 359, 509,   2, 101,   0,   1,  28],\n",
              "       [  0,   0,  16,  11, 179,  14, 773,   6,   1,   0],\n",
              "       [  0,   0,   0,   5, 965,   0,  18,  11,   0,   1]], dtype=int32)>"
            ]
          },
          "metadata": {
            "tags": []
          },
          "execution_count": 72
        }
      ]
    },
    {
      "cell_type": "code",
      "metadata": {
        "id": "wbCA2ot46B0R",
        "outputId": "f0e10bcd-5eca-4a25-8342-fa09b78e3b99",
        "colab": {
          "base_uri": "https://localhost:8080/",
          "height": 110
        }
      },
      "source": [
        "EPOCHS = 5\n",
        "\n",
        "for epoch in range(EPOCHS):\n",
        "  # Reset the metrics at the start of the next epoch\n",
        "  train_loss.reset_states()\n",
        "  train_accuracy.reset_states()\n",
        "  test_loss.reset_states()\n",
        "  test_accuracy.reset_states()\n",
        "\n",
        "  for images, labels in train_ds:\n",
        "    train_step(images, labels)\n",
        "\n",
        "  for test_images, test_labels in test_ds:\n",
        "    test_step(test_images, test_labels)\n",
        "\n",
        "  template = 'Epoch {}, Loss: {}, Accuracy: {}, Test Loss: {}, Test Accuracy: {}'\n",
        "  print(template.format(epoch + 1,\n",
        "                        train_loss.result(),\n",
        "                        train_accuracy.result() * 100,\n",
        "                        test_loss.result(),\n",
        "                        test_accuracy.result() * 100))\n"
      ],
      "execution_count": 73,
      "outputs": [
        {
          "output_type": "stream",
          "text": [
            "Epoch 1, Loss: 0.3715689182281494, Accuracy: 86.7750015258789, Test Loss: 0.2959851622581482, Test Accuracy: 89.37000274658203\n",
            "Epoch 2, Loss: 0.24690109491348267, Accuracy: 90.81999969482422, Test Loss: 0.2739301025867462, Test Accuracy: 89.84000396728516\n",
            "Epoch 3, Loss: 0.191156804561615, Accuracy: 92.86000061035156, Test Loss: 0.2670326828956604, Test Accuracy: 90.52000427246094\n",
            "Epoch 4, Loss: 0.14633809030056, Accuracy: 94.58499908447266, Test Loss: 0.2839689552783966, Test Accuracy: 90.45999908447266\n",
            "Epoch 5, Loss: 0.11207562685012817, Accuracy: 95.8183364868164, Test Loss: 0.3186590373516083, Test Accuracy: 90.44000244140625\n"
          ],
          "name": "stdout"
        }
      ]
    },
    {
      "cell_type": "code",
      "metadata": {
        "id": "5hsfLICK9qmv",
        "outputId": "b9600495-97d7-45d8-a492-78f3345ffaf3",
        "colab": {
          "base_uri": "https://localhost:8080/",
          "height": 221
        }
      },
      "source": [
        "predictions = tf.argmax(model(x_test),1)\n",
        "labels = y_test\n",
        "confusion_matrix(labels, predictions)"
      ],
      "execution_count": 77,
      "outputs": [
        {
          "output_type": "execute_result",
          "data": {
            "text/plain": [
              "<tf.Tensor: shape=(10, 10), dtype=int32, numpy=\n",
              "array([[824,   2,  14,  19,   9,   4, 120,   0,   8,   0],\n",
              "       [  0, 978,   1,  10,   5,   1,   3,   0,   2,   0],\n",
              "       [ 14,   1, 813,  10,  87,   0,  75,   0,   0,   0],\n",
              "       [  9,   6,   9, 928,  20,   1,  25,   0,   2,   0],\n",
              "       [  0,   1,  37,  32, 885,   0,  45,   0,   0,   0],\n",
              "       [  0,   0,   0,   0,   0, 982,   0,  12,   0,   6],\n",
              "       [ 75,   0,  38,  30,  90,   0, 761,   0,   6,   0],\n",
              "       [  0,   0,   0,   0,   0,  15,   0, 981,   1,   3],\n",
              "       [  1,   3,   2,   5,   1,   2,   6,   3, 977,   0],\n",
              "       [  0,   0,   0,   0,   0,   9,   2,  74,   0, 915]], dtype=int32)>"
            ]
          },
          "metadata": {
            "tags": []
          },
          "execution_count": 77
        }
      ]
    },
    {
      "cell_type": "code",
      "metadata": {
        "id": "4fJZqNtaGNyn"
      },
      "source": [
        ""
      ],
      "execution_count": null,
      "outputs": []
    }
  ]
}