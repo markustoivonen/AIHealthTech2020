{
  "nbformat": 4,
  "nbformat_minor": 0,
  "metadata": {
    "colab": {
      "name": "ex1_3.ipynb",
      "provenance": [],
      "authorship_tag": "ABX9TyNKrbb05tQ6vavjdQaZdiO5",
      "include_colab_link": true
    },
    "kernelspec": {
      "name": "python3",
      "display_name": "Python 3"
    }
  },
  "cells": [
    {
      "cell_type": "markdown",
      "metadata": {
        "id": "view-in-github",
        "colab_type": "text"
      },
      "source": [
        "<a href=\"https://colab.research.google.com/github/markustoivonen/AIHealthTech2020/blob/master/exercises/ex1_3.ipynb\" target=\"_parent\"><img src=\"https://colab.research.google.com/assets/colab-badge.svg\" alt=\"Open In Colab\"/></a>"
      ]
    },
    {
      "cell_type": "code",
      "metadata": {
        "id": "ch6x1K7ExRRo",
        "colab_type": "code",
        "colab": {
          "base_uri": "https://localhost:8080/",
          "height": 281
        },
        "outputId": "d0427f74-9c02-4964-99bb-4d929a4f8d8e"
      },
      "source": [
        "'''\n",
        "ELEC-E8739 AI in Health Technologies D\n",
        "\n",
        "Example of (weak) central limit theorem for uniform distributed random variables\n",
        "'''\n",
        "\n",
        "import numpy as np\n",
        "import matplotlib.pyplot as plt\n",
        "\n",
        "def sampling_fx(a,b):\n",
        "\t# You need to write a function here that can\n",
        "\t# generate samples from distribution fx(x)\n",
        "    # Hint: you can use inverse transform sampling\n",
        "    u = np.random.rand(1) # np.random.rand samples from uniform [0,1]\n",
        "    c = (1-b+b*a)/a\n",
        "    if a < u:\n",
        "      return c\n",
        "    return b\n",
        "    \n",
        "def clt_demonstrate():\n",
        "    # Define a and b as some variables. Try with multiple values\n",
        "    a = 0.5\n",
        "    b = 0.5\n",
        "    \n",
        "    # Number of generated variables Z\n",
        "    m = 2000\n",
        "    # Number of X in each sum term\n",
        "    n = 1000\n",
        "    \n",
        "    z = np.zeros((m,))\n",
        "    for i in range(m):\n",
        "        x = np.zeros((n,))\n",
        "        for j in range(n):\n",
        "            x[j] = sampling_fx(a,b)\n",
        "    \n",
        "        z[i] = np.sum(x)\n",
        "        \n",
        "    # Plot Z\n",
        "    plt.hist(z,bins=50,density=True)\n",
        "    plt.title(\"CLT demonstration\")\n",
        "    plt.show()\n",
        "\n",
        "if __name__=='__main__':\n",
        "    clt_demonstrate()\n",
        "\n",
        "\n",
        "\n",
        "\n"
      ],
      "execution_count": 2,
      "outputs": [
        {
          "output_type": "display_data",
          "data": {
            "image/png": "[encoded data removed]",
            "text/plain": [
              "<Figure size 432x288 with 1 Axes>"
            ]
          },
          "metadata": {
            "tags": [],
            "needs_background": "light"
          }
        }
      ]
    },
    {
      "cell_type": "code",
      "metadata": {
        "id": "SJRCYLluzG13",
        "colab_type": "code",
        "colab": {}
      },
      "source": [
        ""
      ],
      "execution_count": null,
      "outputs": []
    }
  ]
}