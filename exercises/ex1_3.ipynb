{
  "nbformat": 4,
  "nbformat_minor": 0,
  "metadata": {
    "colab": {
      "name": "ex1_3.ipynb",
      "provenance": [],
      "authorship_tag": "ABX9TyMA97EnpTbkesnOnvUXnt1Z",
      "include_colab_link": true
    },
    "kernelspec": {
      "name": "python3",
      "display_name": "Python 3"
    }
  },
  "cells": [
    {
      "cell_type": "markdown",
      "metadata": {
        "id": "view-in-github",
        "colab_type": "text"
      },
      "source": [
        "<a href=\"https://colab.research.google.com/github/markustoivonen/AIHealthTech2020/blob/master/exercises/ex1_3.ipynb\" target=\"_parent\"><img src=\"https://colab.research.google.com/assets/colab-badge.svg\" alt=\"Open In Colab\"/></a>"
      ]
    },
    {
      "cell_type": "code",
      "metadata": {
        "id": "ch6x1K7ExRRo",
        "colab_type": "code",
        "colab": {
          "base_uri": "https://localhost:8080/",
          "height": 281
        },
        "outputId": "3605cf56-56fe-4cfd-d031-cff000627f9a"
      },
      "source": [
        "'''\n",
        "ELEC-E8739 AI in Health Technologies D\n",
        "\n",
        "Example of (weak) central limit theorem for uniform distributed random variables\n",
        "'''\n",
        "\n",
        "import numpy as np\n",
        "import matplotlib.pyplot as plt\n",
        "\n",
        "def sampling_fx(a,b):\n",
        "\t# You need to write a function here that can\n",
        "\t# generate samples from distribution fx(x)\n",
        "    # Hint: you can use inverse transform sampling\n",
        "    c = (1-b+b*a)/a\n",
        "    u=np.random.choice([c,b], p=[a*c, (1-a)*b])\n",
        "    if u == b:\n",
        "      sample = np.random.uniform(0, a)\n",
        "    else:\n",
        "      sample = np.random.uniform(a, 1)\n",
        "    return sample\n",
        "    \n",
        "def clt_demonstrate():\n",
        "    # Define a and b as some variables. Try with multiple values\n",
        "    a = 0.5\n",
        "    b = 0.5\n",
        "    \n",
        "    # Number of generated variables Z\n",
        "    m = 2000\n",
        "    # Number of X in each sum term\n",
        "    n = 1000\n",
        "    \n",
        "    z = np.zeros((m,))\n",
        "    for i in range(m):\n",
        "        x = np.zeros((n,))\n",
        "        for j in range(n):\n",
        "            x[j] = sampling_fx(a,b)\n",
        "    \n",
        "        z[i] = np.sum(x)\n",
        "        \n",
        "    # Plot Z\n",
        "    plt.hist(z,bins=50,density=True)\n",
        "    plt.title(\"CLT demonstration\")\n",
        "    plt.show()\n",
        "\n",
        "if __name__=='__main__':\n",
        "    clt_demonstrate()\n",
        "\n",
        "\n",
        "\n",
        "\n"
      ],
      "execution_count": 3,
      "outputs": [
        {
          "output_type": "display_data",
          "data": {
            "image/png": "[encoded data removed]",
            "text/plain": [
              "<Figure size 432x288 with 1 Axes>"
            ]
          },
          "metadata": {
            "tags": [],
            "needs_background": "light"
          }
        }
      ]
    },
    {
      "cell_type": "code",
      "metadata": {
        "id": "SJRCYLluzG13",
        "colab_type": "code",
        "colab": {}
      },
      "source": [
        ""
      ],
      "execution_count": null,
      "outputs": []
    }
  ]
}